{
 "cells": [
  {
   "cell_type": "markdown",
   "metadata": {},
   "source": [
    "# Диференциальный алгоритм оптимизации при двухсторонних ограничениях"
   ]
  },
  {
   "cell_type": "code",
   "execution_count": 1,
   "metadata": {},
   "outputs": [],
   "source": [
    "# for Jupyter Lab\n",
    "%matplotlib ipympl \n",
    "\n",
    "# for Jupyter Notebook\n",
    "#%matplotlib notebook\n",
    "\n",
    "import numpy as np\n",
    "from numpy import array\n",
    "\n",
    "import diffalg\n",
    "import plotting\n",
    "from scipy.optimize import minimize"
   ]
  },
  {
   "cell_type": "markdown",
   "metadata": {},
   "source": [
    "Стоит задача условной оптимизации функции \n",
    "$$f(\\mathbf{x}) = 4 x_1^2 + 2 x_2^2 - 4 x_1 x_2 - 8 x_2$$\n",
    "при двухсторонних ограничениях\n",
    "$$\\Omega: \\begin{align} &0 \\leq x_1 \\leq 4, \\\\ &0 \\leq x_2 \\leq 3. \\end{align}$$\n",
    "\n",
    "Предлагается использовать дифференциальный алгоритм для решения этой задачи."
   ]
  },
  {
   "cell_type": "code",
   "execution_count": 2,
   "metadata": {},
   "outputs": [],
   "source": [
    "# функция и её градиент\n",
    "def f(x):\n",
    "    return (4*x[0]**2 + 2*x[1]**2 \n",
    "            - 4*x[0]*x[1] - 8*x[1])\n",
    "\n",
    "def jacf(x):\n",
    "    return array([8*x[0] - 4*x[1],\n",
    "                  4*x[1] - 4*x[0] - 8])\n",
    "\n",
    "# вектор левых границ прямоугольника Omega \n",
    "left  = array([0, 0])\n",
    "# вектор правых границ прямоугольника Omega \n",
    "right = array([4, 3])\n",
    "\n",
    "# начальная точка\n",
    "x0 = array([2., 1.])\n",
    "\n",
    "# допустимая точность\n",
    "eps = 1e-4"
   ]
  },
  {
   "cell_type": "markdown",
   "metadata": {},
   "source": [
    "Построим 3-мерный график функции в допустимой области и её линии уровня."
   ]
  },
  {
   "cell_type": "code",
   "execution_count": 3,
   "metadata": {},
   "outputs": [
    {
     "data": {
      "application/vnd.jupyter.widget-view+json": {
       "model_id": "e3362c975dca49ffbdfaf3ad92eeb1da",
       "version_major": 2,
       "version_minor": 0
      },
      "text/html": [
       "<p>Failed to display Jupyter Widget of type <code>FigureCanvasNbAgg</code>.</p>\n",
       "<p>\n",
       "  If you're reading this message in the Jupyter Notebook or JupyterLab Notebook, it may mean\n",
       "  that the widgets JavaScript is still loading. If this message persists, it\n",
       "  likely means that the widgets JavaScript library is either not installed or\n",
       "  not enabled. See the <a href=\"https://ipywidgets.readthedocs.io/en/stable/user_install.html\">Jupyter\n",
       "  Widgets Documentation</a> for setup instructions.\n",
       "</p>\n",
       "<p>\n",
       "  If you're reading this message in another frontend (for example, a static\n",
       "  rendering on GitHub or <a href=\"https://nbviewer.jupyter.org/\">NBViewer</a>),\n",
       "  it may mean that your frontend doesn't currently support widgets.\n",
       "</p>\n"
      ],
      "text/plain": [
       "FigureCanvasNbAgg()"
      ]
     },
     "metadata": {},
     "output_type": "display_data"
    }
   ],
   "source": [
    "delta = 0.025\n",
    "x1 = np.arange(left[0], right[0], delta)\n",
    "x2 = np.arange(left[1], right[1], delta)\n",
    "xx1, xx2 = np.meshgrid(x1, x2)\n",
    "ff = f([xx1, xx2])\n",
    "\n",
    "levels = array([-14.5, -13.5, -13, -12, -10, -8, -5, -2.5, 0, 5, 10])\n",
    "fig = plotting.plot_surface_and_contours(ff, xx1, xx2, levels)\n",
    "fig.tight_layout()"
   ]
  },
  {
   "cell_type": "markdown",
   "metadata": {},
   "source": [
    "Функция $f$ выпукла, поэтому у неё существует единственный глобальный безусловный минимум. Область $\\Omega$ также является выпуклой, поэтому задача условной оптимизации также имеет единственное решение. Найдём их сперва пользуясь функцией `scipy.optimize.minimize()`:"
   ]
  },
  {
   "cell_type": "code",
   "execution_count": 4,
   "metadata": {},
   "outputs": [
    {
     "name": "stdout",
     "output_type": "stream",
     "text": [
      "Глобальный безусловный минимум: -16.00\n",
      "Точка глобального безусловного минимума: (2.00; 4.00)\n",
      "\n",
      "Глобальный условный минимум: -15.00\n",
      "Точка глобального условного минимума: (1.50; 3.00)\n",
      "\n"
     ]
    }
   ],
   "source": [
    "# безусловный минимум\n",
    "unconstrained_min = minimize(f, x0, jac=jacf, tol=eps)\n",
    "print(\"Глобальный безусловный минимум: %.2f\" % unconstrained_min.fun)\n",
    "print(\"Точка глобального безусловного минимума: (%.2f; %.2f)\\n\" % tuple(unconstrained_min.x))\n",
    "\n",
    "# ограничения\n",
    "cons = ({'type': 'ineq', 'fun': lambda x:  x[0]-left[0]},\n",
    "        {'type': 'ineq', 'fun': lambda x:  x[1]-left[1]},\n",
    "        {'type': 'ineq', 'fun': lambda x:  right[0]-x[0]},\n",
    "        {'type': 'ineq', 'fun': lambda x:  right[1]-x[1]})\n",
    "\n",
    "# условный минимум\n",
    "constrained_min = minimize(f, x0, jac=jacf, constraints=cons, tol=eps)\n",
    "print(\"Глобальный условный минимум: %.2f\" % constrained_min.fun)\n",
    "print(\"Точка глобального условного минимума: (%.2f; %.2f)\\n\" % tuple(constrained_min.x))"
   ]
  },
  {
   "cell_type": "markdown",
   "metadata": {},
   "source": [
    "Теперь воспользуемся дифференциальным алгоритмом:"
   ]
  },
  {
   "cell_type": "code",
   "execution_count": 5,
   "metadata": {},
   "outputs": [
    {
     "name": "stdout",
     "output_type": "stream",
     "text": [
      "Starting optimization.\n",
      "x0 = [2. 1.] \n",
      "\n",
      "Iteration 1\n",
      "r = 1, step = -1.5000\n",
      "r = 2, step = 1.5000\n",
      "x1 = [0.5 2.5] \n",
      "f = -11.500\n",
      "\n",
      "Iteration 2\n",
      "r = 1, step = 0.7500\n",
      "r = 2, step = 0.5000\n",
      "x2 = [1.25 3.  ] \n",
      "f = -14.750\n",
      "\n",
      "Iteration 3\n",
      "r = 1, step = 0.2500\n",
      "r = 2, step = 0.0000\n",
      "x3 = [1.5 3. ] \n",
      "f = -15.000\n",
      "\n",
      "Optimization terminated successfully.\n",
      "Глобальный условный минимум: -15.00\n",
      "Точка глобального условного минимума: (1.50; 3.00)\n",
      "\n"
     ]
    }
   ],
   "source": [
    "constrained_min_da = diffalg.minimize_diffalg(f, x0, jacf, left, right, tol=eps, verbose=True)\n",
    "print(\"Глобальный условный минимум: %.2f\" % constrained_min_da.fun)\n",
    "print(\"Точка глобального условного минимума: (%.2f; %.2f)\\n\" % tuple(constrained_min_da.x))"
   ]
  },
  {
   "cell_type": "markdown",
   "metadata": {},
   "source": [
    "Как видим, он привёл к той же самой точке. Сравним методы по количеству итераций и скорости сходимости:"
   ]
  },
  {
   "cell_type": "code",
   "execution_count": 6,
   "metadata": {},
   "outputs": [
    {
     "name": "stdout",
     "output_type": "stream",
     "text": [
      "Количество итераций, за которое сошёлся дифференциальный алгоритм:  2\n",
      "Время выполнения:\n",
      "1.53 ms ± 194 µs per loop (mean ± std. dev. of 7 runs, 1000 loops each)\n",
      "\n",
      "Количество итераций, за которое сошёлся библиотечный алгоритм:  4\n",
      "Время выполнения:\n",
      "1.03 ms ± 124 µs per loop (mean ± std. dev. of 7 runs, 1000 loops each)\n"
     ]
    }
   ],
   "source": [
    "print(\"Количество итераций, за которое сошёлся дифференциальный алгоритм: \", constrained_min_da.nit)\n",
    "print(\"Время выполнения:\")\n",
    "%timeit diffalg.minimize_diffalg(f, x0, jacf, left, right, tol=eps)\n",
    "\n",
    "print(\"\\nКоличество итераций, за которое сошёлся библиотечный алгоритм: \", constrained_min.nit)\n",
    "print(\"Время выполнения:\")\n",
    "%timeit minimize(f, x0, jac=jacf, constraints=cons, tol=eps)"
   ]
  }
 ],
 "metadata": {
  "kernelspec": {
   "display_name": "Python 3",
   "language": "python",
   "name": "python3"
  },
  "language_info": {
   "codemirror_mode": {
    "name": "ipython",
    "version": 3
   },
   "file_extension": ".py",
   "mimetype": "text/x-python",
   "name": "python",
   "nbconvert_exporter": "python",
   "pygments_lexer": "ipython3",
   "version": "3.6.4"
  }
 },
 "nbformat": 4,
 "nbformat_minor": 2
}
